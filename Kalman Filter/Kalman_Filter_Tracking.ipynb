{
 "cells": [
  {
   "cell_type": "code",
   "execution_count": 3,
   "metadata": {
    "collapsed": false
   },
   "outputs": [],
   "source": [
    "import cv2\n",
    "import numpy as np"
   ]
  },
  {
   "cell_type": "code",
   "execution_count": 4,
   "metadata": {
    "collapsed": false
   },
   "outputs": [],
   "source": [
    "def segment_image(frame):\n",
    "    gray=cv2.cvtColor(frame,cv2.COLOR_BGR2GRAY)\n",
    "    contours=cv2.findContours(gray.copy(),cv2.RETR_TREE,cv2.CHAIN_APPROX_SIMPLE)\n",
    "    largest=max(contours[1], key=cv2.contourArea)\n",
    "    x, y, w, h = cv2.boundingRect(largest)\n",
    "    cv2.rectangle(frame, (x, y), (x+w, y+h), (0, 255, 0), 2)\n",
    "    #print(largest)\n",
    "    cv2.drawContours(frame, [largest], 0, (0,0,255),3)\n",
    "    return (x+(w/2.0),y+(h/2.0),w,h)"
   ]
  },
  {
   "cell_type": "code",
   "execution_count": 5,
   "metadata": {
    "collapsed": true
   },
   "outputs": [],
   "source": [
    "class KalmanFilter:\n",
    "    def __init__(self,xk):\n",
    "        self.timestep=1\n",
    "        self.A=np.matrix([[1,0,self.timestep,0],[0,1,0,self.timestep],[0,0,1,0],[0,0,0,1]])\n",
    "        self.H=np.matrix([[1,0,0,0],[0,1,0,0]])\n",
    "        self.Q=np.matrix([[1,0,0,0],[0,10,0,0],[0,0,20,0],[0,0,0,10]])*0.01\n",
    "        self.R=np.matrix([[0.01,0],[0,20000]])*0.0001\n",
    "        self.P=np.matrix(np.eye(4))\n",
    "        self.PP=[]\n",
    "        self.xk=xk\n",
    "        \n",
    "    def predict_and_update(self,z):\n",
    "        xp=self.A*np.matrix(self.xk)\n",
    "        self.PP=self.A*self.P*self.A.transpose()+self.Q\n",
    "        xpred=xp.transpose()\n",
    "    \n",
    "        K=self.P*self.H.transpose()*np.linalg.inv(self.H*self.PP*self.H.transpose()+self.R)\n",
    "        self.P=(np.matrix(np.eye(4))-K*self.H)*self.PP\n",
    "        self.xk=xp+K*(z.transpose()-self.H*xp)\n",
    "        return xpred"
   ]
  },
  {
   "cell_type": "code",
   "execution_count": null,
   "metadata": {
    "collapsed": false
   },
   "outputs": [],
   "source": [
    "cap = cv2.VideoCapture('1.mp4')\n",
    "\n",
    "k=KalmanFilter(np.matrix([0,0,0,0]).transpose())\n",
    "\n",
    "while(cap.isOpened()):\n",
    "    ret, frame = cap.read()\n",
    "        \n",
    "    bbox=segment_image(frame)\n",
    "    x=np.matrix([bbox[0],bbox[1]])\n",
    "    pred=k.predict_and_update(x)\n",
    "    frame=np.zeros(frame.shape)\n",
    "    cv2.circle(frame,(int(bbox[0]),int(bbox[1])),5,(0,0,255))\n",
    "    cv2.circle(frame,(int(pred[0,0]),int(pred[0,1])),5,(0,255,0))\n",
    "    cv2.imshow('frame',frame)\n",
    "    cv2.waitKey(0)\n",
    "    if cv2.waitKey(1) & 0xFF == ord('q'):\n",
    "        break\n",
    "\n",
    "cap.release()\n",
    "cv2.destroyAllWindows()"
   ]
  },
  {
   "cell_type": "code",
   "execution_count": null,
   "metadata": {
    "collapsed": false
   },
   "outputs": [],
   "source": []
  },
  {
   "cell_type": "code",
   "execution_count": null,
   "metadata": {
    "collapsed": false
   },
   "outputs": [],
   "source": []
  },
  {
   "cell_type": "code",
   "execution_count": null,
   "metadata": {
    "collapsed": false
   },
   "outputs": [],
   "source": []
  },
  {
   "cell_type": "code",
   "execution_count": null,
   "metadata": {
    "collapsed": true
   },
   "outputs": [],
   "source": []
  }
 ],
 "metadata": {
  "kernelspec": {
   "display_name": "Python 3",
   "language": "python",
   "name": "python3"
  },
  "language_info": {
   "codemirror_mode": {
    "name": "ipython",
    "version": 3
   },
   "file_extension": ".py",
   "mimetype": "text/x-python",
   "name": "python",
   "nbconvert_exporter": "python",
   "pygments_lexer": "ipython3",
   "version": "3.6.1"
  }
 },
 "nbformat": 4,
 "nbformat_minor": 2
}
